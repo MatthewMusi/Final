{
 "cells": [
  {
   "cell_type": "code",
   "execution_count": 5,
   "metadata": {},
   "outputs": [
    {
     "name": "stdout",
     "output_type": "stream",
     "text": [
      "['Sewickley Heights', 'Sewickley Heights']\n"
     ]
    }
   ],
   "source": [
    "import pandas as pd\n",
    "import numpy as np\n",
    "\n",
    "pb_covid19_info = pd.read_csv(\"pittsburgh-covid19-cases.csv\")\n",
    "\n",
    "i = 0\n",
    "mean_cases = pb_covid19_info['cases'].mean()\n",
    "mean_deaths = pb_covid19_info['deaths'].mean()\n",
    "mean_tests = pb_covid19_info['indv_tested'].mean()\n",
    "best_neighborhoods_cases = []\n",
    "best_neighborhoods_deaths = []\n",
    "best_neighborhoods_tests = []\n",
    "count = 0\n",
    "deaths = 0\n",
    "while i < len(pb_covid19_info):\n",
    "    #loops through the csv file and adds the best neighborhoods to a list\n",
    "    if pb_covid19_info['cases'].iloc[i] < mean_cases:\n",
    "        best_neighborhoods_cases.append(pb_covid19_info['neighborhood_municipality'].iloc[i])\n",
    "    if pb_covid19_info['deaths'].iloc[i] < mean_deaths:\n",
    "        best_neighborhoods_deaths.append(pb_covid19_info['neighborhood_municipality'].iloc[i])\n",
    "    if pb_covid19_info['indv_tested'].iloc[i] > mean_tests:\n",
    "        best_neighborhoods_tests.append(pb_covid19_info['neighborhood_municipality'].iloc[i])\n",
    "    i += 1\n",
    "\n",
    "cases_set = set(best_neighborhoods_cases)\n",
    "common_elements_set = cases_set.intersection(best_neighborhoods_deaths)\n",
    "common_elements = list(common_elements_set)\n",
    "best_neighborhoods_common = common_elements_set.intersection(best_neighborhoods_tests)\n",
    "best_neighborhoods = list(best_neighborhoods_common)\n",
    "\n",
    "#removes all rows that aren't one of the best neighborhoods\n",
    "pb_covid19_info = pb_covid19_info.drop(pb_covid19_info\n",
    "                      [(pb_covid19_info['neighborhood_municipality'] != 'Ohio') &\n",
    "                       (pb_covid19_info['neighborhood_municipality'] != 'Wilkins') &\n",
    "                       (pb_covid19_info['neighborhood_municipality'] != 'Point Breeze (Pittsburgh)') &\n",
    "                       (pb_covid19_info['neighborhood_municipality'] != 'Marshall') &\n",
    "                       (pb_covid19_info['neighborhood_municipality'] != 'Sewickley Heights') &\n",
    "                       (pb_covid19_info['neighborhood_municipality'] != 'Beechview (Pittsburgh)') & \n",
    "                       (pb_covid19_info['neighborhood_municipality'] != 'West Deer') &\n",
    "                       (pb_covid19_info['neighborhood_municipality'] != 'Forest Hills') & \n",
    "                       (pb_covid19_info['neighborhood_municipality'] != 'Duquesne Heights (Pittsburgh)') &\n",
    "                       (pb_covid19_info['neighborhood_municipality'] != 'Mckees rock')].index)\n",
    "\n",
    "k = 0\n",
    "fewest_cases = pb_covid19_info['cases'].iloc[0]\n",
    "most_tested = pb_covid19_info['indv_tested'].iloc[0]\n",
    "while k < len(pb_covid19_info):\n",
    "    #loops through the csv file and adds the best(est) neighborhoods to a list\n",
    "    if pb_covid19_info['cases'].iloc[k] < fewest_cases:\n",
    "        fewest_cases = pb_covid19_info['cases'].iloc[k]\n",
    "    if pb_covid19_info['indv_tested'].iloc[k] > most_tested:\n",
    "        most_tested = pb_covid19_info['indv_tested'].iloc[k]\n",
    "    k += 1\n",
    "\n",
    "bestest_neighborhoods = []\n",
    "j = 0\n",
    "while j < len(pb_covid19_info):\n",
    "    if pb_covid19_info['cases'].iloc[j] == fewest_cases:\n",
    "        bestest_neighborhoods.append(pb_covid19_info['neighborhood_municipality'].iloc[j])\n",
    "    if pb_covid19_info['indv_tested'].iloc[j] == most_tested:\n",
    "        bestest_neighborhoods.append(pb_covid19_info['neighborhood_municipality'].iloc[j])\n",
    "    j += 1\n",
    "\n",
    "print(bestest_neighborhoods)"
   ]
  },
  {
   "cell_type": "code",
   "execution_count": null,
   "metadata": {},
   "outputs": [],
   "source": []
  }
 ],
 "metadata": {
  "kernelspec": {
   "display_name": "Python 3",
   "language": "python",
   "name": "python3"
  },
  "language_info": {
   "codemirror_mode": {
    "name": "ipython",
    "version": 3
   },
   "file_extension": ".py",
   "mimetype": "text/x-python",
   "name": "python",
   "nbconvert_exporter": "python",
   "pygments_lexer": "ipython3",
   "version": "3.8.3"
  }
 },
 "nbformat": 4,
 "nbformat_minor": 4
}
