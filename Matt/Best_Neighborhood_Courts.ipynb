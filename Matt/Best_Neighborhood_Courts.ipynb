{
 "cells": [
  {
   "cell_type": "code",
   "execution_count": 2,
   "metadata": {},
   "outputs": [
    {
     "ename": "SyntaxError",
     "evalue": "invalid syntax (<ipython-input-2-eb8c88f9af11>, line 6)",
     "output_type": "error",
     "traceback": [
      "\u001b[0;36m  File \u001b[0;32m\"<ipython-input-2-eb8c88f9af11>\"\u001b[0;36m, line \u001b[0;32m6\u001b[0m\n\u001b[0;31m    df = pd.read_csv(['Allegheny Center', 'Beechview', 'Bedford Dwellings', 'South Side Slopes', 'South Side Flats', 'Lower Lawrenceville', 'Squirrel Hill South', 'Beltzhoover', 'Highland Park'] columns = ['neighborhood'])\u001b[0m\n\u001b[0m                                                                                                                                                                                                   ^\u001b[0m\n\u001b[0;31mSyntaxError\u001b[0m\u001b[0;31m:\u001b[0m invalid syntax\n"
     ]
    }
   ],
   "source": [
    "import pandas as pd\n",
    "import numpy as np\n",
    "\n",
    "pb_courts_info = pd.read_csv(\"a5b71bfa-840c-4c86-8f43-07a9ae854227.csv\")\n",
    "\n",
    "df = pd.read_csv(['Allegheny Center', 'Beechview', 'Bedford Dwellings', 'South Side Slopes', 'South Side Flats', 'Lower Lawrenceville', 'Squirrel Hill South', 'Beltzhoover', 'Highland Park'] columns = ['neighborhood'])\n",
    "df.words.str.count(\"Allegheny Center\" | \"Beechview\" | \"Bedford Dwelling\" | \"South Side Slopes\" | \"South Side Flats\" | \"Lower Lawrenceville\" | \"Squirrel Hill South\" | \"Beltzhoover\" | \"Highland Park\")"
   ]
  }
 ],
 "metadata": {
  "kernelspec": {
   "display_name": "Python 3",
   "language": "python",
   "name": "python3"
  },
  "language_info": {
   "codemirror_mode": {
    "name": "ipython",
    "version": 3
   },
   "file_extension": ".py",
   "mimetype": "text/x-python",
   "name": "python",
   "nbconvert_exporter": "python",
   "pygments_lexer": "ipython3",
   "version": "3.8.3"
  }
 },
 "nbformat": 4,
 "nbformat_minor": 4
}
