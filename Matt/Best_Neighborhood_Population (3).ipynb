{
 "cells": [
  {
   "cell_type": "code",
   "execution_count": 1,
   "metadata": {},
   "outputs": [],
   "source": [
    "import pandas as pd\n",
    "import numpy as np\n",
    "\n",
    "pop = pd.read_csv(\"Total_Population.csv\")"
   ]
  },
  {
   "cell_type": "code",
   "execution_count": 4,
   "metadata": {},
   "outputs": [
    {
     "data": {
      "text/plain": [
       "Neighborhood              Squirrel Hill South\n",
       "Id                                         78\n",
       "Estimate; Total                         16042\n",
       "Margin of Error; Total                889.712\n",
       "Name: 77, dtype: object"
      ]
     },
     "execution_count": 4,
     "metadata": {},
     "output_type": "execute_result"
    }
   ],
   "source": [
    "df = pop\n",
    "df.iloc[df['Estimate; Total'].idxmax()]"
   ]
  },
  {
   "cell_type": "code",
   "execution_count": 10,
   "metadata": {},
   "outputs": [
    {
     "data": {
      "text/plain": [
       "Neighborhood              Chateau\n",
       "Id                             22\n",
       "Estimate; Total                 3\n",
       "Margin of Error; Total          3\n",
       "Name: 21, dtype: object"
      ]
     },
     "execution_count": 10,
     "metadata": {},
     "output_type": "execute_result"
    }
   ],
   "source": [
    "df.iloc[df['Estimate; Total'].idxmin()]"
   ]
  },
  {
   "cell_type": "code",
   "execution_count": 11,
   "metadata": {},
   "outputs": [
    {
     "name": "stdout",
     "output_type": "stream",
     "text": [
      "The neighborhood with the highest population is Squirrel Hill South, and the lowest population being Chateau\n"
     ]
    }
   ],
   "source": [
    "print(\"The neighborhood with the highest population is Squirrel Hill South, and the lowest population being Chateau\")"
   ]
  },
  {
   "cell_type": "markdown",
   "metadata": {},
   "source": [
    "Best Neighborhood: Squirrel Hill South\n",
    "\n",
    "The best neighborhood from the dataset that I found in the 2015 Census for Pittsburgh Neighborhoods was Squirrel Hill South. The way that I found it out to be in this method was by using a pandas function to see which neighborhood had the highest population and which neighborhood had the lowest population. The pandas funciton that I used actually searched through the entire dataset and specifically found which neighborhood had the highest population and the lowest population."
   ]
  }
 ],
 "metadata": {
  "kernelspec": {
   "display_name": "Python 3",
   "language": "python",
   "name": "python3"
  },
  "language_info": {
   "codemirror_mode": {
    "name": "ipython",
    "version": 3
   },
   "file_extension": ".py",
   "mimetype": "text/x-python",
   "name": "python",
   "nbconvert_exporter": "python",
   "pygments_lexer": "ipython3",
   "version": "3.8.3"
  }
 },
 "nbformat": 4,
 "nbformat_minor": 4
}
